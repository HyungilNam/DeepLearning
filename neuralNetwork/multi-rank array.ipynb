{
 "cells": [
  {
   "cell_type": "code",
   "execution_count": 1,
   "metadata": {},
   "outputs": [
    {
     "name": "stdout",
     "output_type": "stream",
     "text": [
      "numpy를 이용한 다차원 배열 계산\n",
      "1차원 배열의 예시\n",
      "전체 배열 >>[1 2 3 4]\n",
      "배열의 차수 >>1\n",
      "배열의 형상 >>(4,)\n",
      "배열 원소의 형상 >>4\n"
     ]
    }
   ],
   "source": [
    "import numpy as np\n",
    "\n",
    "print('numpy를 이용한 다차원 배열 계산')\n",
    "\n",
    "print('1차원 배열의 예시')\n",
    "A = np.array([1, 2, 3, 4])\n",
    "print('전체 배열 >>' + str(A))\n",
    "print('배열의 차수 >>' + str(np.ndim(A)))\n",
    "print('배열의 형상 >>' + str(A.shape))\n",
    "print('배열 원소의 형상 >>' + str(A.shape[0]))\n",
    "print('--------------------------------------')"
   ]
  },
  {
   "cell_type": "code",
   "execution_count": 2,
   "metadata": {},
   "outputs": [
    {
     "name": "stdout",
     "output_type": "stream",
     "text": [
      "2차원 배열의 예시\n",
      "전체 배열 >>[[1 2]\n",
      " [3 4]\n",
      " [5 6]]\n",
      "배열의 차수 >>2\n",
      "배열의 형상 >>(3, 2)\n"
     ]
    }
   ],
   "source": [
    "print('2차원 배열의 예시')\n",
    "B = np.array([[1, 2], [3, 4],[5, 6]])\n",
    "print('전체 배열 >>' + str(B))\n",
    "print('배열의 차수 >>' + str(np.ndim(B)))\n",
    "print('배열의 형상 >>' + str(B.shape))\n",
    "print('--------------------------------------')"
   ]
  },
  {
   "cell_type": "code",
   "execution_count": 4,
   "metadata": {},
   "outputs": [
    {
     "name": "stdout",
     "output_type": "stream",
     "text": [
      "행렬의 내적 예시\n",
      "배열의 형상 >>(2, 2)\n",
      "배열의 형상 >>(2, 2)\n",
      "두 행렬의 내적을 넘파이 함수 np.dot()을 이용해서 계산\n",
      "[[19 22]\n",
      " [43 50]]\n",
      "--------------------------------------\n"
     ]
    }
   ],
   "source": [
    "print('행렬의 내적 예시')\n",
    "A = np.array([[1, 2], [3, 4]])\n",
    "print('배열의 형상 >>' + str(A.shape))\n",
    "B = np.array([[5, 6], [7, 8]])\n",
    "print('배열의 형상 >>' + str(B.shape))\n",
    "\n",
    "print('두 행렬의 내적을 넘파이 함수 np.dot()을 이용해서 계산')\n",
    "print(np.dot(A, B))\n",
    "print('--------------------------------------')"
   ]
  },
  {
   "cell_type": "code",
   "execution_count": 6,
   "metadata": {},
   "outputs": [
    {
     "name": "stdout",
     "output_type": "stream",
     "text": [
      "다차원일때 행렬의 내적 예시\n",
      "배열의 형상 >>(3, 2)\n",
      "배열의 형상 >>(2,)\n",
      "두 행렬의 내적을 넘파이 함수 np.dot()을 이용해서 계산\n",
      "[23 53 83]\n",
      "--------------------------------------\n"
     ]
    }
   ],
   "source": [
    "print('다차원일때 행렬의 내적 예시')\n",
    "A = np.array([[1, 2], [3, 4],[5, 6]])\n",
    "print('배열의 형상 >>' + str(A.shape))\n",
    "B = np.array([7, 8])\n",
    "print('배열의 형상 >>' + str(B.shape))\n",
    "\n",
    "print('두 행렬의 내적을 넘파이 함수 np.dot()을 이용해서 계산')\n",
    "print(np.dot(A, B))\n",
    "print('--------------------------------------')"
   ]
  },
  {
   "cell_type": "code",
   "execution_count": 10,
   "metadata": {},
   "outputs": [
    {
     "name": "stdout",
     "output_type": "stream",
     "text": [
      "신경망의 내적 예시\n",
      "[1 2]\n",
      "(2,)\n",
      "[[1 3 5]\n",
      " [2 4 6]]\n",
      "(2, 3)\n",
      "신경망의 내적 예시 결과 >>[ 5 11 17]\n"
     ]
    }
   ],
   "source": [
    "print('신경망의 내적 예시')\n",
    "X = np.array([1, 2])\n",
    "print(X)\n",
    "print(X.shape)\n",
    "W = np.array([[1, 3, 5],[2, 4, 6]])\n",
    "print(W)\n",
    "print(W.shape)\n",
    "Y = np.dot(X, W)\n",
    "print('신경망의 내적 예시 결과 >>' + str(Y))"
   ]
  }
 ],
 "metadata": {
  "kernelspec": {
   "display_name": "Python 3",
   "language": "python",
   "name": "python3"
  },
  "language_info": {
   "codemirror_mode": {
    "name": "ipython",
    "version": 3
   },
   "file_extension": ".py",
   "mimetype": "text/x-python",
   "name": "python",
   "nbconvert_exporter": "python",
   "pygments_lexer": "ipython3",
   "version": "3.6.3"
  }
 },
 "nbformat": 4,
 "nbformat_minor": 2
}
