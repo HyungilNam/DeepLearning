{
 "cells": [
  {
   "cell_type": "code",
   "execution_count": 2,
   "metadata": {},
   "outputs": [
    {
     "name": "stdout",
     "output_type": "stream",
     "text": [
      "입력층에서 1층으로 신호 전달\n",
      "W1의 형상 >>>(2, 3)\n",
      "X의 형상 >>>(2,)\n",
      "B1의 형상 >>>(3,)\n",
      "결과 출력 >>[ 0.3  0.7  1.1]\n"
     ]
    }
   ],
   "source": [
    "import numpy as np\n",
    "\n",
    "print('입력층에서 1층으로 신호 전달')\n",
    "X = np.array([1.0, 0.5])\n",
    "W1 = np.array([[0.1, 0.3, 0.5], [0.2, 0.4, 0.6]])\n",
    "B1 = np.array([0.1, 0.2, 0.3])\n",
    "\n",
    "print('W1의 형상 >>>'+str(W1.shape))\n",
    "print('X의 형상 >>>'+str(X.shape))\n",
    "print('B1의 형상 >>>'+str(B1.shape))\n",
    "\n",
    "A1 = np.dot(X, W1) + B1\n",
    "print('결과 출력 >>' + str(A1))"
   ]
  },
  {
   "cell_type": "code",
   "execution_count": 3,
   "metadata": {},
   "outputs": [
    {
     "name": "stdout",
     "output_type": "stream",
     "text": [
      "입력층에서 1층으로 전달된 신호를 활성화 함수로 처리\n",
      "활성화 함수 들어가기 전 A1 >>[ 0.3  0.7  1.1]\n",
      "활성화 함수 들어간 후 Z1 >>[ 0.57444252  0.66818777  0.75026011]\n"
     ]
    }
   ],
   "source": [
    "print('입력층에서 1층으로 전달된 신호를 활성화 함수로 처리')\n",
    "def sigmoid(x):\n",
    "    return 1/(1 + np.exp(-x))\n",
    "\n",
    "Z1 = sigmoid(A1)\n",
    "print('활성화 함수 들어가기 전 A1 >>' + str(A1))\n",
    "print('활성화 함수 들어간 후 Z1 >>' + str(Z1))"
   ]
  },
  {
   "cell_type": "code",
   "execution_count": 5,
   "metadata": {},
   "outputs": [
    {
     "name": "stdout",
     "output_type": "stream",
     "text": [
      "1층에서 2층으로 전달된 신호를 활성화 함수로 처리\n",
      "Z1의 형상 >>>(3,)\n",
      "W2의 형상 >>>(3, 2)\n",
      "B2의 형상 >>>(2,)\n",
      "활성화 함수 들어가기 전 A2 >>[ 0.51615984  1.21402696]\n",
      "활성화 함수 들어간 후 Z2 >>[ 0.62624937  0.7710107 ]\n"
     ]
    }
   ],
   "source": [
    "print('1층에서 2층으로 전달된 신호를 활성화 함수로 처리')\n",
    "\n",
    "W2 = np.array([[0.1, 0.4], [0.2, 0.5],[0.3, 0.6]])\n",
    "B2 = np.array([0.1, 0.2])\n",
    "\n",
    "print('Z1의 형상 >>>'+str(Z1.shape))\n",
    "print('W2의 형상 >>>'+str(W2.shape))\n",
    "print('B2의 형상 >>>'+str(B2.shape))\n",
    "\n",
    "A2 = np.dot(Z1, W2) + B2\n",
    "Z2 = sigmoid(A2)\n",
    "print('활성화 함수 들어가기 전 A2 >>' + str(A2))\n",
    "print('활성화 함수 들어간 후 Z2 >>' + str(Z2))"
   ]
  },
  {
   "cell_type": "code",
   "execution_count": 6,
   "metadata": {},
   "outputs": [
    {
     "name": "stdout",
     "output_type": "stream",
     "text": [
      "2층에서 출력층으로 전달된 신호를 활성화 함수로 처리\n",
      "Z2의 형상 >>>(2,)\n",
      "W3의 형상 >>>(2, 2)\n",
      "B3의 형상 >>>(2,)\n",
      "항등 함수\"출력 층의 활성화 함수\" 들어가기 전 A3 >>[ 0.31682708  0.69627909]\n",
      "항등 함수\"출력 층의 활성화 함수\" 들어간 후 Y >>[ 0.31682708  0.69627909]\n"
     ]
    }
   ],
   "source": [
    "print('2층에서 출력층으로 전달된 신호를 활성화 함수로 처리')\n",
    "\n",
    "def identity_function(x):\n",
    "    return x\n",
    "\n",
    "W3 = np.array([[0.1, 0.3], [0.2, 0.4]])\n",
    "B3 = np.array([0.1, 0.2])\n",
    "\n",
    "print('Z2의 형상 >>>'+str(Z2.shape))\n",
    "print('W3의 형상 >>>'+str(W3.shape))\n",
    "print('B3의 형상 >>>'+str(B3.shape))\n",
    "\n",
    "A3 = np.dot(Z2, W3) + B3\n",
    "Y = identity_function(A3)\n",
    "print('항등 함수\"출력 층의 활성화 함수\" 들어가기 전 A3 >>' + str(A3))\n",
    "print('항등 함수\"출력 층의 활성화 함수\" 들어간 후 Y >>' + str(Y))"
   ]
  },
  {
   "cell_type": "code",
   "execution_count": 8,
   "metadata": {},
   "outputs": [
    {
     "name": "stdout",
     "output_type": "stream",
     "text": [
      "3층 신경망 전체 구현\n",
      "결과 출력 >>[ 0.31682708  0.69627909]\n"
     ]
    }
   ],
   "source": [
    "print('3층 신경망 전체 구현')\n",
    "def init_network():\n",
    "    network ={}\n",
    "    network['W1'] = np.array([[0.1, 0.3, 0.5], [0.2, 0.4, 0.6]])\n",
    "    network['b1'] = np.array([0.1, 0.2, 0.3])\n",
    "    network['W2'] = np.array([[0.1, 0.4], [0.2, 0.5],[0.3, 0.6]])\n",
    "    network['b2'] = np.array([0.1, 0.2])\n",
    "    network['W3'] = np.array([[0.1, 0.3], [0.2, 0.4]])\n",
    "    network['b3'] = np.array([0.1, 0.2])\n",
    "    \n",
    "    return network\n",
    "\n",
    "def forward(network, x):\n",
    "    W1, W2, W3 = network['W1'], network['W2'],network['W3']\n",
    "    b1, b2, b3 = network['b1'], network['b2'],network['b3']\n",
    "    \n",
    "    a1 = np.dot(x, W1) + b1\n",
    "    z1 = sigmoid(a1)           #sigmoid는 은닉층의 활성화 함수로 위에서 참조\n",
    "    a2 = np.dot(z1, W2) + b2\n",
    "    z2 = sigmoid(a2)          \n",
    "    a3 = np.dot(z2, W3) + b3\n",
    "    y = identity_function(a3)  #indentity_function은 출력층의 활성화 함수로 위에서 참조\n",
    "    \n",
    "    return y\n",
    "\n",
    "network = init_network()\n",
    "x = np.array([1.0, 0.5])\n",
    "y = forward(network, x)\n",
    "print('결과 출력 >>' + str(y))\n"
   ]
  }
 ],
 "metadata": {
  "kernelspec": {
   "display_name": "Python 3",
   "language": "python",
   "name": "python3"
  },
  "language_info": {
   "codemirror_mode": {
    "name": "ipython",
    "version": 3
   },
   "file_extension": ".py",
   "mimetype": "text/x-python",
   "name": "python",
   "nbconvert_exporter": "python",
   "pygments_lexer": "ipython3",
   "version": "3.6.3"
  }
 },
 "nbformat": 4,
 "nbformat_minor": 2
}
