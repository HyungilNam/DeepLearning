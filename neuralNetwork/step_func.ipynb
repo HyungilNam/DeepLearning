{
 "cells": [
  {
   "cell_type": "code",
   "execution_count": 1,
   "metadata": {},
   "outputs": [
    {
     "name": "stdout",
     "output_type": "stream",
     "text": [
      "계단 함수 구현하기\n",
      "[-1.  1.  2.]\n",
      "bool로 만들어서 출력\n",
      "[False  True  True]\n"
     ]
    }
   ],
   "source": [
    "#계단 함수 구현하기\n",
    "print('계단 함수 구현하기')\n",
    "\n",
    "import numpy as np\n",
    "\n",
    "x = np.array([-1.0, 1.0, 2.0])\n",
    "print(x)\n",
    "\n",
    "print('bool로 만들어서 출력')\n",
    "z = x >0\n",
    "print(z)"
   ]
  },
  {
   "cell_type": "code",
   "execution_count": 2,
   "metadata": {},
   "outputs": [
    {
     "name": "stdout",
     "output_type": "stream",
     "text": [
      "bool을 int형으로 바꿔주는 함수를 만들어서 출력\n",
      "[0 1 1]\n"
     ]
    }
   ],
   "source": [
    "print('bool을 int형으로 바꿔주는 함수를 만들어서 출력')\n",
    "def step_function(x):\n",
    "    y = x > 0\n",
    "    return y.astype(np.int)\n",
    "\n",
    "print(step_function(x))"
   ]
  },
  {
   "cell_type": "code",
   "execution_count": 3,
   "metadata": {},
   "outputs": [
    {
     "name": "stdout",
     "output_type": "stream",
     "text": [
      "계단 함수의 그래프 그리기\n"
     ]
    },
    {
     "data": {
      "image/png": "[encoded data removed]",
      "text/plain": [
       "<matplotlib.figure.Figure at 0x10a8e0f28>"
      ]
     },
     "metadata": {},
     "output_type": "display_data"
    }
   ],
   "source": [
    "#계단 함수 그래프\n",
    "print('계단 함수의 그래프 그리기')\n",
    "import matplotlib.pylab as plt\n",
    "\n",
    "def step_function2(x):\n",
    "    return np.array(x > 0, dtype =np.int)\n",
    "\n",
    "p = np.arange(-5.0, 5.0, 0.1)\n",
    "y = step_function2(p)\n",
    "plt.plot(p, y)\n",
    "plt.ylim(-0.1, 1.1) \t\t#y축의 범위 지정\n",
    "plt.show()"
   ]
  },
  {
   "cell_type": "code",
   "execution_count": null,
   "metadata": {
    "collapsed": true
   },
   "outputs": [],
   "source": []
  }
 ],
 "metadata": {
  "kernelspec": {
   "display_name": "Python 3",
   "language": "python",
   "name": "python3"
  },
  "language_info": {
   "codemirror_mode": {
    "name": "ipython",
    "version": 3
   },
   "file_extension": ".py",
   "mimetype": "text/x-python",
   "name": "python",
   "nbconvert_exporter": "python",
   "pygments_lexer": "ipython3",
   "version": "3.6.3"
  }
 },
 "nbformat": 4,
 "nbformat_minor": 2
}
