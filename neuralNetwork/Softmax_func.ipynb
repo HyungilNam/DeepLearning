{
 "cells": [
  {
   "cell_type": "code",
   "execution_count": 2,
   "metadata": {},
   "outputs": [
    {
     "name": "stdout",
     "output_type": "stream",
     "text": [
      "소프트맥스 함수 구현 예시\n",
      "지수 함수로 표현 >>[  1.34985881  18.17414537  54.59815003]\n",
      "지수 함수의 합 >>74.1221542102\n",
      "소프트맥스 함수 작동 원리 결과 >>[ 0.01821127  0.24519181  0.73659691]\n"
     ]
    }
   ],
   "source": [
    "print('소프트맥스 함수 구현 예시')\n",
    "import numpy as np\n",
    "\n",
    "a = np.array([0.3, 2.9, 4.0])\n",
    "\n",
    "exp_a = np.exp(a)\n",
    "print('지수 함수로 표현 >>' + str(exp_a))\n",
    "\n",
    "sum_exp_a = np.sum(exp_a)\n",
    "print('지수 함수의 합 >>' + str(sum_exp_a))\n",
    "\n",
    "y = exp_a/ sum_exp_a\n",
    "print('소프트맥스 함수 작동 원리 결과 >>' + str(y))"
   ]
  },
  {
   "cell_type": "code",
   "execution_count": 3,
   "metadata": {},
   "outputs": [
    {
     "name": "stdout",
     "output_type": "stream",
     "text": [
      "소프트맥스 함수\n"
     ]
    }
   ],
   "source": [
    "print('소프트맥스 함수')\n",
    "def softmax(a):\n",
    "    exp_a = np.exp(a)\n",
    "    sum_exp_a = np.sum(exp_a)\n",
    "    y = exp_a/ sum_exp_a\n",
    "    \n",
    "    return y"
   ]
  },
  {
   "cell_type": "code",
   "execution_count": 5,
   "metadata": {},
   "outputs": [
    {
     "name": "stdout",
     "output_type": "stream",
     "text": [
      "오버플로 문제를 위한 소프트맥스 함수\n",
      "지수 함수로 표현 >>[  0 -10 -20]\n",
      "소프트맥스 함수 작동 원리 결과 >>[  9.99954600e-01   4.53978686e-05   2.06106005e-09]\n"
     ]
    }
   ],
   "source": [
    "print('오버플로 문제를 위한 소프트맥스 함수')\n",
    "\n",
    "a = np.array([1010, 1000, 990])\n",
    "\n",
    "# exp_a = np.exp(a)                     오버플로 문제 발생\n",
    "# print('지수 함수로 표현 >>' + str(exp_a)) 오버플로 문제 발생\n",
    "c = np.max(a) #c = 1010(최대값)\n",
    "a-c\n",
    "print('지수 함수로 표현 >>' + str(a-c))\n",
    "\n",
    "print('소프트맥스 함수 작동 원리 결과 >>' + str(np.exp(a-c)/np.sum(np.exp(a-c))))"
   ]
  },
  {
   "cell_type": "code",
   "execution_count": 7,
   "metadata": {},
   "outputs": [
    {
     "name": "stdout",
     "output_type": "stream",
     "text": [
      "개선된 소프트맥스 함수\n"
     ]
    }
   ],
   "source": [
    "print('개선된 소프트맥스 함수')\n",
    "def softmax(a):\n",
    "    c = np.max(a)\n",
    "    exp_a = np.exp(a-c)  #오버플로 대책\n",
    "    sum_exp_a = np.sum(exp_a)\n",
    "    y = exp_a/ sum_exp_a\n",
    "    \n",
    "    return y"
   ]
  },
  {
   "cell_type": "code",
   "execution_count": 6,
   "metadata": {},
   "outputs": [
    {
     "name": "stdout",
     "output_type": "stream",
     "text": [
      "개선된 softmax()의 결과 >>[ 0.21630418  0.19572011  0.58797571]\n",
      "y의 합 >>1.0\n"
     ]
    }
   ],
   "source": [
    "a = np.array([3.0, 2.9, 4.0])\n",
    "y = softmax(a)\n",
    "print('개선된 softmax()의 결과 >>' + str(y))\n",
    "print('y의 합 >>' + str(np.sum(y)))"
   ]
  }
 ],
 "metadata": {
  "kernelspec": {
   "display_name": "Python 3",
   "language": "python",
   "name": "python3"
  },
  "language_info": {
   "codemirror_mode": {
    "name": "ipython",
    "version": 3
   },
   "file_extension": ".py",
   "mimetype": "text/x-python",
   "name": "python",
   "nbconvert_exporter": "python",
   "pygments_lexer": "ipython3",
   "version": "3.6.3"
  }
 },
 "nbformat": 4,
 "nbformat_minor": 2
}
